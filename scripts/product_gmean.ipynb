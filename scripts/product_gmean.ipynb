{
 "cells": [
  {
   "cell_type": "code",
   "execution_count": 1,
   "metadata": {
    "collapsed": true
   },
   "outputs": [],
   "source": [
    "import numpy as np\n",
    "import pandas as pd\n",
    "from tqdm import tqdm\n",
    "from label_to_cat import LABEL_TO_CAT\n",
    "\n",
    "BATCHES_COUNT = 12091\n",
    "TEST_SIZE = 1768182"
   ]
  },
  {
   "cell_type": "code",
   "execution_count": null,
   "metadata": {
    "collapsed": true
   },
   "outputs": [],
   "source": [
    "res50_path = '../input/resnet50_test_corr.h5'\n",
    "res101_path = '../input/resnet101_test.h5'\n",
    "dense_path = '../input/dense_test_corr.h5'"
   ]
  },
  {
   "cell_type": "code",
   "execution_count": null,
   "metadata": {
    "collapsed": true
   },
   "outputs": [],
   "source": [
    "%%time\n",
    "store_res50 = pd.HDFStore(res50_path)\n",
    "print('{} tables in storage'.format(len(store_res50)))"
   ]
  },
  {
   "cell_type": "code",
   "execution_count": null,
   "metadata": {
    "collapsed": true
   },
   "outputs": [],
   "source": [
    "%%time\n",
    "store_res101 = pd.HDFStore(res101_path)\n",
    "print('{} tables in storage'.format(len(store_res101)))"
   ]
  },
  {
   "cell_type": "code",
   "execution_count": null,
   "metadata": {
    "collapsed": true
   },
   "outputs": [],
   "source": [
    "%%time\n",
    "store_dense = pd.HDFStore(dense_path)\n",
    "print('{} tables in storage'.format(len(store_res101)))"
   ]
  },
  {
   "cell_type": "code",
   "execution_count": null,
   "metadata": {
    "collapsed": true
   },
   "outputs": [],
   "source": [
    "stores = [store_res50, store_res101, store_dense]\n",
    "keys = store_res50.keys()"
   ]
  },
  {
   "cell_type": "code",
   "execution_count": null,
   "metadata": {
    "collapsed": true
   },
   "outputs": [],
   "source": [
    "preds = []\n",
    "cur_id = None\n",
    "one_product_preds = None\n",
    "\n",
    "def select_tables(stores, key):\n",
    "    tables = []\n",
    "    for store in stores:\n",
    "        tables.append(store.select(key))\n",
    "        \n",
    "def get_product_id(tables, index):\n",
    "    assert len(tables) > 0\n",
    "    product_id = tables[0].pr_id.iloc[index]\n",
    "    for i in range(1, len(tables)):\n",
    "        alt = tables[i].pr_id.iloc[index]\n",
    "        assert alt == product_id\n",
    "    return product_id\n",
    "\n",
    "def get_cat_id(one_pr_preds):\n",
    "    return gmean(one_pr_preds).argmax()\n",
    "\n",
    "for key in tqdm(keys): \n",
    "    tables = select_tables(stores, key)\n",
    "    for i in range(tables[0].shape[0]):\n",
    "        product_id = get_product_id(tables, i)\n",
    "        new_sum = sum([table[i : i +1].drop(['pr_id', 'img_num'], axis=1, inplace=False).sum()\n",
    "                           for table in tables])\n",
    "        if cur_id == product_id:\n",
    "            assert one_product_preds is not None\n",
    "            one_product_preds.append(new_sum)\n",
    "            continue\n",
    "        elif cur_id is not None:\n",
    "            assert one_product_preds is not None\n",
    "            cat = LABEL_TO_CAT[get_cat_id(one_product_preds)]\n",
    "            preds.append((int(cur_id), cat))\n",
    "            one_product_preds = None\n",
    "        \n",
    "        cur_id = product_id\n",
    "        one_product_preds = [new_sum]\n",
    "        \n",
    "if cur_id is not None:\n",
    "    cat = LABEL_TO_CAT[get_cat_id(one_product_preds)]\n",
    "    preds.append((int(cur_id), cat))\n",
    "            \n",
    "preds_df = pd.DataFrame(data=preds, columns=['_id','category_id'])\n",
    "print('Dataframe shape {}; products in test {}'.format(preds_df.shape, TEST_SIZE))\n",
    "print('Duplicates {}; affect accuracy {}'.format(preds_df.shape[0] - TEST_SIZE,\n",
    "                                                float(preds_df.shape[0] - TEST_SIZE) / TEST_SIZE))\n",
    "no_dupls = preds_df.drop_duplicates(subset='_id', inplace=False)\n",
    "print('No duplicated shape: {}; expected rows count {}'.format(no_dupls.shape, TEST_SIZE))\n",
    "\n",
    "no_dupls.to_csv('../submit/product_level_GMEAN.csv', index=False)"
   ]
  },
  {
   "cell_type": "code",
   "execution_count": 2,
   "metadata": {},
   "outputs": [
    {
     "data": {
      "text/plain": [
       "[0    1\n",
       " 1    2\n",
       " 2    3\n",
       " 3    4\n",
       " dtype: int64, 0    5\n",
       " 1    6\n",
       " 2    7\n",
       " 3    8\n",
       " dtype: int64, 0     9\n",
       " 1    10\n",
       " 2    11\n",
       " 3    12\n",
       " dtype: int64]"
      ]
     },
     "execution_count": 2,
     "metadata": {},
     "output_type": "execute_result"
    }
   ],
   "source": [
    "x = [\n",
    "    pd.Series([1, 2, 3, 4]), pd.Series([5, 6, 7, 8]), pd.Series([9, 10, 11, 12])\n",
    "]\n",
    "x"
   ]
  },
  {
   "cell_type": "code",
   "execution_count": 5,
   "metadata": {},
   "outputs": [],
   "source": [
    "from scipy.stats import gmean"
   ]
  },
  {
   "cell_type": "code",
   "execution_count": 16,
   "metadata": {},
   "outputs": [
    {
     "data": {
      "text/plain": [
       "array([ 3.5568933 ,  4.93242415,  6.13579244,  7.26848237])"
      ]
     },
     "execution_count": 16,
     "metadata": {},
     "output_type": "execute_result"
    }
   ],
   "source": [
    "gmean(x, axis=0)"
   ]
  }
 ],
 "metadata": {
  "kernelspec": {
   "display_name": "Python 2",
   "language": "python",
   "name": "python2"
  },
  "language_info": {
   "codemirror_mode": {
    "name": "ipython",
    "version": 2
   },
   "file_extension": ".py",
   "mimetype": "text/x-python",
   "name": "python",
   "nbconvert_exporter": "python",
   "pygments_lexer": "ipython2",
   "version": "2.7.13"
  }
 },
 "nbformat": 4,
 "nbformat_minor": 2
}
