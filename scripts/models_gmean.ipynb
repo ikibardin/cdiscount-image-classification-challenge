{
 "cells": [
  {
   "cell_type": "code",
   "execution_count": 1,
   "metadata": {},
   "outputs": [],
   "source": [
    "import numpy as np\n",
    "import pandas as pd\n",
    "from tqdm import tqdm\n",
    "from scipy.stats import gmean\n",
    "\n",
    "from label_to_cat import LABEL_TO_CAT\n",
    "\n",
    "BATCHES_COUNT = 12091\n",
    "TEST_SIZE = 1768182"
   ]
  },
  {
   "cell_type": "code",
   "execution_count": 2,
   "metadata": {},
   "outputs": [],
   "source": [
    "res50_path = '../input/resnet50_test_corr.h5'\n",
    "res101_path = '../input/resnet101_test.h5'\n",
    "dense_path = '../input/dense_test_corr.h5'"
   ]
  },
  {
   "cell_type": "code",
   "execution_count": 3,
   "metadata": {},
   "outputs": [
    {
     "name": "stdout",
     "output_type": "stream",
     "text": [
      "12091 tables in storage\n",
      "CPU times: user 38.4 s, sys: 856 ms, total: 39.2 s\n",
      "Wall time: 44.1 s\n"
     ]
    }
   ],
   "source": [
    "%%time\n",
    "store_res50 = pd.HDFStore(res50_path)\n",
    "print('{} tables in storage'.format(len(store_res50)))"
   ]
  },
  {
   "cell_type": "code",
   "execution_count": 4,
   "metadata": {},
   "outputs": [
    {
     "name": "stdout",
     "output_type": "stream",
     "text": [
      "12091 tables in storage\n",
      "CPU times: user 40.1 s, sys: 712 ms, total: 40.8 s\n",
      "Wall time: 45.8 s\n"
     ]
    }
   ],
   "source": [
    "%%time\n",
    "store_res101 = pd.HDFStore(res101_path)\n",
    "print('{} tables in storage'.format(len(store_res101)))"
   ]
  },
  {
   "cell_type": "code",
   "execution_count": 5,
   "metadata": {},
   "outputs": [
    {
     "name": "stdout",
     "output_type": "stream",
     "text": [
      "12091 tables in storage\n",
      "CPU times: user 40.2 s, sys: 304 ms, total: 40.5 s\n",
      "Wall time: 40.5 s\n"
     ]
    }
   ],
   "source": [
    "%%time\n",
    "store_dense = pd.HDFStore(dense_path)\n",
    "print('{} tables in storage'.format(len(store_res101)))"
   ]
  },
  {
   "cell_type": "code",
   "execution_count": 6,
   "metadata": {},
   "outputs": [],
   "source": [
    "stores = [store_res50, store_res101, store_dense]\n",
    "keys = store_res50.keys()"
   ]
  },
  {
   "cell_type": "code",
   "execution_count": null,
   "metadata": {},
   "outputs": [
    {
     "name": "stderr",
     "output_type": "stream",
     "text": [
      "  0%|          | 0/12091 [00:00<?, ?it/s]/home/ikibardin/anaconda3/envs/python3.5/lib/python3.5/site-packages/scipy/stats/stats.py:306: RuntimeWarning: divide by zero encountered in log\n",
      "  log_a = np.log(np.array(a, dtype=dtype))\n",
      " 17%|█▋        | 2061/12091 [52:11<4:14:00,  1.52s/it]"
     ]
    }
   ],
   "source": [
    "preds = []\n",
    "cur_id = None\n",
    "one_product_preds = None\n",
    "\n",
    "def select_tables(stores, key):\n",
    "    tables = []\n",
    "    for store in stores:\n",
    "        tables.append(store.select(key))\n",
    "    return tables\n",
    "        \n",
    "def get_product_id(tables, index):\n",
    "    assert len(tables) > 0\n",
    "    product_id = tables[0].pr_id.iloc[index]\n",
    "    for i in range(1, len(tables)):\n",
    "        alt = tables[i].pr_id.iloc[index]\n",
    "        assert alt == product_id\n",
    "    return product_id\n",
    "\n",
    "def get_cat_id(one_pr_preds):\n",
    "    averaged = one_pr_preds[0]\n",
    "    for i in range(1, len(one_pr_preds)):\n",
    "        averaged += one_product_preds[i] * (1. - 0.3*i)\n",
    "    return averaged.argmax()\n",
    "    # return gmean(one_pr_preds).argmax()\n",
    "\n",
    "def get_new_sum_gmean(tables, ind):\n",
    "    sums = [table[ind : ind +1].drop(['pr_id', 'img_num'], axis=1, inplace=False).sum()\n",
    "                           for table in tables]\n",
    "    return gmean(sums)\n",
    "\n",
    "for key in tqdm(keys): \n",
    "    tables = select_tables(stores, key)\n",
    "    for i in range(tables[0].shape[0]):\n",
    "        product_id = get_product_id(tables, i)\n",
    "        new_sum = get_new_sum_gmean(tables, i)\n",
    "        if cur_id == product_id:\n",
    "            assert one_product_preds is not None\n",
    "            one_product_preds.append(new_sum)\n",
    "            continue\n",
    "        elif cur_id is not None:\n",
    "            assert one_product_preds is not None\n",
    "            cat = LABEL_TO_CAT[get_cat_id(one_product_preds)]\n",
    "            preds.append((int(cur_id), cat))\n",
    "            one_product_preds = None\n",
    "        \n",
    "        cur_id = product_id\n",
    "        one_product_preds = [new_sum]\n",
    "        \n",
    "if cur_id is not None:\n",
    "    cat = LABEL_TO_CAT[get_cat_id(one_product_preds)]\n",
    "    preds.append((int(cur_id), cat))\n",
    "            \n",
    "preds_df = pd.DataFrame(data=preds, columns=['_id','category_id'])\n",
    "print('Dataframe shape {}; products in test {}'.format(preds_df.shape, TEST_SIZE))\n",
    "print('Duplicates {}; affect accuracy {}'.format(preds_df.shape[0] - TEST_SIZE,\n",
    "                                                float(preds_df.shape[0] - TEST_SIZE) / TEST_SIZE))\n",
    "no_dupls = preds_df.drop_duplicates(subset='_id', inplace=False)\n",
    "print('No duplicated shape: {}; expected rows count {}'.format(no_dupls.shape, TEST_SIZE))\n",
    "\n",
    "no_dupls.to_csv('../submit/weighted_GMEAN.csv', index=False)"
   ]
  }
 ],
 "metadata": {
  "kernelspec": {
   "display_name": "Python [conda env:python3.5]",
   "language": "python",
   "name": "conda-env-python3.5-py"
  },
  "language_info": {
   "codemirror_mode": {
    "name": "ipython",
    "version": 3
   },
   "file_extension": ".py",
   "mimetype": "text/x-python",
   "name": "python",
   "nbconvert_exporter": "python",
   "pygments_lexer": "ipython3",
   "version": "3.5.4"
  }
 },
 "nbformat": 4,
 "nbformat_minor": 2
}
