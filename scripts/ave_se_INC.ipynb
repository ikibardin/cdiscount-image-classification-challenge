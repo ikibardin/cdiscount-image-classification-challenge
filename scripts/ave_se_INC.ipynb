{
 "cells": [
  {
   "cell_type": "code",
   "execution_count": 1,
   "metadata": {},
   "outputs": [],
   "source": [
    "import numpy as np\n",
    "import pandas as pd\n",
    "from tqdm import tqdm\n",
    "from label_to_cat import LABEL_TO_CAT\n",
    "\n",
    "BATCHES_COUNT = 12091"
   ]
  },
  {
   "cell_type": "code",
   "execution_count": 2,
   "metadata": {},
   "outputs": [
    {
     "name": "stdout",
     "output_type": "stream",
     "text": [
      "12091 tables in storage\n",
      "CPU times: user 44.1 s, sys: 1.13 s, total: 45.2 s\n",
      "Wall time: 54.3 s\n"
     ]
    }
   ],
   "source": [
    "%%time\n",
    "inc_store = pd.HDFStore('../input/se_inc_test.h5')\n",
    "inc_keys = inc_store.keys()\n",
    "print('{} tables in storage'.format(len(inc_keys)))"
   ]
  },
  {
   "cell_type": "code",
   "execution_count": 3,
   "metadata": {},
   "outputs": [
    {
     "name": "stderr",
     "output_type": "stream",
     "text": [
      "100%|██████████| 12091/12091 [1:32:33<00:00,  2.18it/s]\n"
     ]
    },
    {
     "name": "stdout",
     "output_type": "stream",
     "text": [
      "Dataframe shape (1769197, 2); products in test 1768182\n",
      "Duplicates 1015; affect accuracy 0.0005740359306903928\n",
      "No duplicated shape: (1768182, 2)\n"
     ]
    }
   ],
   "source": [
    "TEST_SIZE = 1768182\n",
    "\n",
    "ave_preds = []\n",
    "cur_id = None\n",
    "cur_sum = None\n",
    "\n",
    "for key in tqdm(inc_keys): \n",
    "    inc_table = inc_store.select(key)\n",
    "    # table.drop(table[table.img_num != 0.].index, axis=0, inplace=True)\n",
    "    for i in range(inc_table.shape[0]):\n",
    "        product_id = inc_table.pr_id.iloc[i]\n",
    "        \n",
    "        #res_sum1 = res_table.iloc[pd.np.r_[st : st + 4, st + 5:st + 9]].drop(['pr_id', 'img_num'], axis=1, inplace=False).sum()\n",
    "        #res_sum2 = res_table.iloc[pd.np.r_[st + 4: st + 5, st + 9:st + 10]].drop(['pr_id', 'img_num'], axis=1, inplace=False).sum()\n",
    "        #dens_sum1 = dens_table.iloc[pd.np.r_[st : st + 4, st + 5:st + 9]].drop(['pr_id', 'img_num'], axis=1, inplace=False).sum()\n",
    "        #dens_sum2 =dens_table.iloc[pd.np.r_[st + 4: st + 5, st + 9:st + 10]].drop(['pr_id', 'img_num'], axis=1, inplace=False).sum()\n",
    "        \n",
    "        new_sum = inc_table[i : i + 1].drop(['pr_id', 'img_num'], axis=1, inplace=False).sum()\n",
    "        \n",
    "        #new_sum = res_sum + dens_sum + inc_sum\n",
    "        #new_sum = res_sum1 + 3*res_sum2 + dens_sum1 + 3*dens_sum2\n",
    "        if cur_id == product_id:\n",
    "            assert cur_sum is not None\n",
    "            cur_sum += new_sum\n",
    "            continue\n",
    "        elif cur_id is not None:\n",
    "            assert cur_sum is not None\n",
    "            id_ = int(cur_sum.idxmax()) - 1\n",
    "            cat = LABEL_TO_CAT[id_]\n",
    "            ave_preds.append((int(cur_id), cat))\n",
    "            \n",
    "        cur_id = product_id\n",
    "        cur_sum = new_sum\n",
    "        \n",
    "if cur_id is not None:\n",
    "    id_ = int(cur_sum.idxmax()) - 1\n",
    "    cat = LABEL_TO_CAT[id_]\n",
    "    ave_preds.append((int(cur_id), cat))\n",
    "            \n",
    "ave_preds_df = pd.DataFrame(data=ave_preds, columns=['_id','category_id'])\n",
    "print('Dataframe shape {}; products in test {}'.format(ave_preds_df.shape, TEST_SIZE))\n",
    "print('Duplicates {}; affect accuracy {}'.format(ave_preds_df.shape[0] - TEST_SIZE,\n",
    "                                                float(ave_preds_df.shape[0] - TEST_SIZE) / TEST_SIZE))\n",
    "ave_no_dupls = ave_preds_df.drop_duplicates(subset='_id', inplace=False)\n",
    "print('No duplicated shape:', ave_no_dupls.shape)\n",
    "\n",
    "ave_no_dupls.to_csv('../submit/se_inc.csv', index=False)"
   ]
  }
 ],
 "metadata": {
  "kernelspec": {
   "display_name": "Python [conda env:python3.5]",
   "language": "python",
   "name": "conda-env-python3.5-py"
  },
  "language_info": {
   "codemirror_mode": {
    "name": "ipython",
    "version": 3
   },
   "file_extension": ".py",
   "mimetype": "text/x-python",
   "name": "python",
   "nbconvert_exporter": "python",
   "pygments_lexer": "ipython3",
   "version": "3.5.4"
  }
 },
 "nbformat": 4,
 "nbformat_minor": 2
}
