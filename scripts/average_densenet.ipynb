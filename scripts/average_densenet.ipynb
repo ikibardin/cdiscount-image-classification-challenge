{
 "cells": [
  {
   "cell_type": "code",
   "execution_count": 1,
   "metadata": {
    "collapsed": true
   },
   "outputs": [],
   "source": [
    "import numpy as np\n",
    "import pandas as pd\n",
    "from tqdm import tqdm\n",
    "from label_to_cat import LABEL_TO_CAT\n",
    "\n",
    "densenet_path = '../input/dense_test_corr.h5'\n",
    "BATCHES_COUNT = 12091\n",
    "TEST_SIZE = 1768182"
   ]
  },
  {
   "cell_type": "code",
   "execution_count": 2,
   "metadata": {},
   "outputs": [
    {
     "name": "stdout",
     "output_type": "stream",
     "text": [
      "12091 tables in storage\n",
      "CPU times: user 38.3 s, sys: 768 ms, total: 39 s\n",
      "Wall time: 43.9 s\n"
     ]
    }
   ],
   "source": [
    "%%time\n",
    "store = pd.HDFStore(densenet_path)\n",
    "densenet_keys = store.keys()\n",
    "print('{} tables in storage'.format(len(densenet_keys)))"
   ]
  },
  {
   "cell_type": "markdown",
   "metadata": {},
   "source": [
    "# Усреднить только денснет"
   ]
  },
  {
   "cell_type": "code",
   "execution_count": 10,
   "metadata": {},
   "outputs": [
    {
     "name": "stderr",
     "output_type": "stream",
     "text": [
      "\r",
      "  0%|          | 0/12091 [00:00<?, ?it/s]"
     ]
    },
    {
     "name": "stdout",
     "output_type": "stream",
     "text": [
      "1       0.0\n",
      "2       0.0\n",
      "3       0.0\n",
      "4       0.0\n",
      "5       0.0\n",
      "6       0.0\n",
      "7       0.0\n",
      "8       0.0\n",
      "9       0.0\n",
      "10      0.0\n",
      "11      0.0\n",
      "12      0.0\n",
      "13      0.0\n",
      "14      0.0\n",
      "15      0.0\n",
      "16      0.0\n",
      "17      0.0\n",
      "18      0.0\n",
      "19      0.0\n",
      "20      0.0\n",
      "21      0.0\n",
      "22      0.0\n",
      "23      0.0\n",
      "24      0.0\n",
      "25      0.0\n",
      "26      0.0\n",
      "27      0.0\n",
      "28      0.0\n",
      "29      0.0\n",
      "30      0.0\n",
      "       ... \n",
      "5241    0.0\n",
      "5242    0.0\n",
      "5243    0.0\n",
      "5244    0.0\n",
      "5245    0.0\n",
      "5246    0.0\n",
      "5247    0.0\n",
      "5248    0.0\n",
      "5249    0.0\n",
      "5250    0.0\n",
      "5251    0.0\n",
      "5252    0.0\n",
      "5253    0.0\n",
      "5254    0.0\n",
      "5255    0.0\n",
      "5256    0.0\n",
      "5257    0.0\n",
      "5258    0.0\n",
      "5259    0.0\n",
      "5260    0.0\n",
      "5261    0.0\n",
      "5262    0.0\n",
      "5263    0.0\n",
      "5264    0.0\n",
      "5265    0.0\n",
      "5266    0.0\n",
      "5267    0.0\n",
      "5268    0.0\n",
      "5269    0.0\n",
      "5270    0.0\n",
      "Length: 5270, dtype: float16\n",
      "1      NaN\n",
      "2      NaN\n",
      "3      NaN\n",
      "4      NaN\n",
      "5      NaN\n",
      "6      NaN\n",
      "7      NaN\n",
      "8      NaN\n",
      "9      NaN\n",
      "10     NaN\n",
      "11     NaN\n",
      "12     NaN\n",
      "13     NaN\n",
      "14     NaN\n",
      "15     NaN\n",
      "16     NaN\n",
      "17     NaN\n",
      "18     NaN\n",
      "19     NaN\n",
      "20     NaN\n",
      "21     NaN\n",
      "22     NaN\n",
      "23     NaN\n",
      "24     NaN\n",
      "25     NaN\n",
      "26     NaN\n",
      "27     NaN\n",
      "28     NaN\n",
      "29     NaN\n",
      "30     NaN\n",
      "        ..\n",
      "5241   NaN\n",
      "5242   NaN\n",
      "5243   NaN\n",
      "5244   NaN\n",
      "5245   NaN\n",
      "5246   NaN\n",
      "5247   NaN\n",
      "5248   NaN\n",
      "5249   NaN\n",
      "5250   NaN\n",
      "5251   NaN\n",
      "5252   NaN\n",
      "5253   NaN\n",
      "5254   NaN\n",
      "5255   NaN\n",
      "5256   NaN\n",
      "5257   NaN\n",
      "5258   NaN\n",
      "5259   NaN\n",
      "5260   NaN\n",
      "5261   NaN\n",
      "5262   NaN\n",
      "5263   NaN\n",
      "5264   NaN\n",
      "5265   NaN\n",
      "5266   NaN\n",
      "5267   NaN\n",
      "5268   NaN\n",
      "5269   NaN\n",
      "5270   NaN\n",
      "Length: 5270, dtype: float64\n"
     ]
    },
    {
     "name": "stderr",
     "output_type": "stream",
     "text": [
      "\n"
     ]
    },
    {
     "ename": "ValueError",
     "evalue": "cannot convert float NaN to integer",
     "output_type": "error",
     "traceback": [
      "\u001b[0;31m---------------------------------------------------------------------------\u001b[0m",
      "\u001b[0;31mValueError\u001b[0m                                Traceback (most recent call last)",
      "\u001b[0;32m<ipython-input-10-4709a9c7e52a>\u001b[0m in \u001b[0;36m<module>\u001b[0;34m()\u001b[0m\n\u001b[1;32m     24\u001b[0m                 \u001b[0mcur_sum\u001b[0m \u001b[0;34m+=\u001b[0m \u001b[0msums\u001b[0m\u001b[0;34m.\u001b[0m\u001b[0mmax\u001b[0m\u001b[0;34m(\u001b[0m\u001b[0;34m)\u001b[0m\u001b[0;34m\u001b[0m\u001b[0m\n\u001b[1;32m     25\u001b[0m             \u001b[0mprint\u001b[0m\u001b[0;34m(\u001b[0m\u001b[0mcur_sum\u001b[0m\u001b[0;34m)\u001b[0m\u001b[0;34m\u001b[0m\u001b[0m\n\u001b[0;32m---> 26\u001b[0;31m             \u001b[0mid_\u001b[0m \u001b[0;34m=\u001b[0m \u001b[0mint\u001b[0m\u001b[0;34m(\u001b[0m\u001b[0mcur_sum\u001b[0m\u001b[0;34m.\u001b[0m\u001b[0midxmax\u001b[0m\u001b[0;34m(\u001b[0m\u001b[0;34m)\u001b[0m\u001b[0;34m)\u001b[0m \u001b[0;34m-\u001b[0m \u001b[0;36m1\u001b[0m\u001b[0;34m\u001b[0m\u001b[0m\n\u001b[0m\u001b[1;32m     27\u001b[0m             \u001b[0mcat\u001b[0m \u001b[0;34m=\u001b[0m \u001b[0mLABEL_TO_CAT\u001b[0m\u001b[0;34m[\u001b[0m\u001b[0mid_\u001b[0m\u001b[0;34m]\u001b[0m\u001b[0;34m\u001b[0m\u001b[0m\n\u001b[1;32m     28\u001b[0m             \u001b[0mdense_preds\u001b[0m\u001b[0;34m.\u001b[0m\u001b[0mappend\u001b[0m\u001b[0;34m(\u001b[0m\u001b[0;34m(\u001b[0m\u001b[0mint\u001b[0m\u001b[0;34m(\u001b[0m\u001b[0mcur_id\u001b[0m\u001b[0;34m)\u001b[0m\u001b[0;34m,\u001b[0m \u001b[0mcat\u001b[0m\u001b[0;34m)\u001b[0m\u001b[0;34m)\u001b[0m\u001b[0;34m\u001b[0m\u001b[0m\n",
      "\u001b[0;31mValueError\u001b[0m: cannot convert float NaN to integer"
     ]
    }
   ],
   "source": [
    "MULTIPLY_FOR_MAX = 1\n",
    "\n",
    "dense_preds = []\n",
    "cur_id = None\n",
    "sums = pd.DataFrame()\n",
    "cur_sum = None\n",
    "\n",
    "for key in tqdm(densenet_keys): \n",
    "    table = store.select(key)\n",
    "    # table.drop(table[table.img_num != 0.].index, axis=0, inplace=True)\n",
    "    for i in range(table.shape[0]):\n",
    "        product_id = table.pr_id.iloc[i]\n",
    "        new_sum = table[i : i + +1].drop(['pr_id', 'img_num'], axis=1, inplace=False).sum()\n",
    "        \n",
    "        if cur_id == product_id:\n",
    "            assert cur_sum is not None\n",
    "            sums.append(new_sum)\n",
    "            cur_sum += new_sum\n",
    "            continue\n",
    "        elif cur_id is not None:\n",
    "            assert cur_sum is not None\n",
    "            print(cur_sum)\n",
    "            for i in range(MULTIPLY_FOR_MAX):\n",
    "                cur_sum += sums.max()\n",
    "            print(cur_sum)\n",
    "            id_ = int(cur_sum.idxmax()) - 1\n",
    "            cat = LABEL_TO_CAT[id_]\n",
    "            dense_preds.append((int(cur_id), cat))\n",
    "            \n",
    "        cur_id = product_id\n",
    "        cur_sum = new_sum\n",
    "        sums.drop(sums.index, inplace=True)\n",
    "        sums.append(new_sum, ignore_index=True)\n",
    "        \n",
    "if cur_id is not None:\n",
    "    id_ = int(cur_sum.idxmax()) - 1\n",
    "    cat = LABEL_TO_CAT[id_]\n",
    "    dense_preds.append((int(cur_id), cat))\n",
    "            \n",
    "dense_preds_df = pd.DataFrame(data=dense_preds, columns=['_id','category_id'])\n",
    "print('Dataframe shape {}; products in test {}'.format(dense_preds_df.shape, TEST_SIZE))\n",
    "print('Duplicates {}; affect accuracy {}'.format(dense_preds_df.shape[0] - TEST_SIZE,\n",
    "                                                float(dense_preds_df.shape[0] - TEST_SIZE) / TEST_SIZE))\n",
    "dense_no_dupls = dense_preds_df.drop_duplicates(subset='_id', inplace=False)\n",
    "print('No duplicated shape:', dense_no_dupls.shape)\n",
    "\n",
    "dense_no_dupls.to_csv('../submit/dense_EXPERIMENT.csv', index=False)"
   ]
  },
  {
   "cell_type": "markdown",
   "metadata": {},
   "source": [
    "# Усреднить денснет с резнетом"
   ]
  },
  {
   "cell_type": "code",
   "execution_count": 5,
   "metadata": {},
   "outputs": [
    {
     "name": "stdout",
     "output_type": "stream",
     "text": [
      "0 tables in storage\n",
      "CPU times: user 0 ns, sys: 0 ns, total: 0 ns\n",
      "Wall time: 5.55 ms\n"
     ]
    }
   ],
   "source": [
    "%%time\n",
    "res_store = pd.HDFStore('../input/predict_probs_resnet50.h5')\n",
    "res_keys = res_store.keys()\n",
    "print('{} tables in storage'.format(len(res_keys)))"
   ]
  },
  {
   "cell_type": "code",
   "execution_count": null,
   "metadata": {
    "collapsed": true
   },
   "outputs": [],
   "source": [
    "ave_preds = []\n",
    "cur_id = None\n",
    "cur_sum = None\n",
    "\n",
    "for key in tqdm(densenet_keys): \n",
    "    res_table = res_store.select(key)\n",
    "    dens_table = store.select(key)\n",
    "    # table.drop(table[table.img_num != 0.].index, axis=0, inplace=True)\n",
    "    assert res_table.shape[0] % 10 == 0\n",
    "    assert dens_table.shape[0] == res_table.shape[0]\n",
    "    for i in range(int(res_table.shape[0] / 10)):\n",
    "        product_id1 = res_table.pr_id.iloc[10*i]\n",
    "        product_id2 = dens_table.pr_id.iloc[10 * i]\n",
    "        assert product_id1 == product_id2\n",
    "        new_sum1 = res_table[10*i : 10*i + 10].drop(['pr_id', 'img_num'], axis=1, inplace=False).sum()\n",
    "        new_sum2 = dens_table[10*i : 10*i + 10].drop(['pr_id', 'img_num'], axis=1, inplace=False).sum()\n",
    "        new_sum = new_sum1 + new_sum2\n",
    "        \n",
    "        if cur_id == product_id1:\n",
    "            assert cur_sum is not None\n",
    "            cur_sum += new_sum\n",
    "            continue\n",
    "        elif cur_id is not None:\n",
    "            assert cur_sum is not None\n",
    "            id_ = int(cur_sum.idxmax()) - 1\n",
    "            cat = LABEL_TO_CAT[id_]\n",
    "            ave_preds.append((int(cur_id), cat))\n",
    "            \n",
    "        cur_id = product_id1\n",
    "        cur_sum = new_sum\n",
    "        \n",
    "if cur_id is not None:\n",
    "    id_ = int(cur_sum.idxmax()) - 1\n",
    "    cat = LABEL_TO_CAT[id_]\n",
    "    ave_preds.append((int(cur_id), cat))\n",
    "            \n",
    "ave_preds_df = pd.DataFrame(data=ave_preds, columns=['_id','category_id'])\n",
    "print('Dataframe shape {}; products in test {}'.format(ave_preds_df.shape, TEST_SIZE))\n",
    "print('Duplicates {}; affect accuracy {}'.format(ave_preds_df.shape[0] - TEST_SIZE,\n",
    "                                                float(ave_preds_df.shape[0] - TEST_SIZE) / TEST_SIZE))\n",
    "ave_no_dupls = ave_preds_df.drop_duplicates(subset='_id', inplace=False)\n",
    "print('No duplicated shape:', ave_no_dupls.shape)\n",
    "\n",
    "ave_no_dupls.to_csv('../submit/dense_resnet_ave.csv', index=False)"
   ]
  }
 ],
 "metadata": {
  "anaconda-cloud": {},
  "kernelspec": {
   "display_name": "Python 2",
   "language": "python",
   "name": "python2"
  },
  "language_info": {
   "codemirror_mode": {
    "name": "ipython",
    "version": 2
   },
   "file_extension": ".py",
   "mimetype": "text/x-python",
   "name": "python",
   "nbconvert_exporter": "python",
   "pygments_lexer": "ipython2",
   "version": "2.7.13"
  }
 },
 "nbformat": 4,
 "nbformat_minor": 1
}
