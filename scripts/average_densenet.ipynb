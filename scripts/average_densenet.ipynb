{
 "cells": [
  {
   "cell_type": "code",
   "execution_count": 2,
   "metadata": {
    "collapsed": true
   },
   "outputs": [],
   "source": [
    "import numpy as np\n",
    "import pandas as pd\n",
    "from tqdm import tqdm\n",
    "from label_to_cat import LABEL_TO_CAT\n",
    "\n",
    "densenet_path = '../input/densenet_test.h5'\n",
    "BATCHES_COUNT = 12091\n",
    "TEST_SIZE = 1768182"
   ]
  },
  {
   "cell_type": "code",
   "execution_count": 4,
   "metadata": {},
   "outputs": [
    {
     "name": "stdout",
     "output_type": "stream",
     "text": [
      "0 tables in storage\n",
      "CPU times: user 4 ms, sys: 4 ms, total: 8 ms\n",
      "Wall time: 4.6 ms\n"
     ]
    }
   ],
   "source": [
    "%%time\n",
    "store = pd.HDFStore(densenet_path)\n",
    "densenet_keys = store.keys()\n",
    "print('{} tables in storage'.format(len(densenet_keys)))"
   ]
  },
  {
   "cell_type": "markdown",
   "metadata": {},
   "source": [
    "# Усреднить только денснет"
   ]
  },
  {
   "cell_type": "code",
   "execution_count": null,
   "metadata": {
    "collapsed": true
   },
   "outputs": [],
   "source": [
    "assert len(keys) == BATCHES_COUNT\n",
    "\n",
    "dense_preds = []\n",
    "cur_id = None\n",
    "cur_sum = None\n",
    "\n",
    "for key in tqdm(densenet_keys): \n",
    "    table = store.select(key)\n",
    "    # table.drop(table[table.img_num != 0.].index, axis=0, inplace=True)\n",
    "    assert table.shape[0] % 10 == 0\n",
    "    for i in range(int(table.shape[0] / 10)):\n",
    "        product_id = table.pr_id.iloc[10*i]\n",
    "        new_sum = table[10*i : 10*i + 10].drop(['pr_id', 'img_num'], axis=1, inplace=False).sum()\n",
    "        \n",
    "        if cur_id == product_id:\n",
    "            assert cur_sum is not None\n",
    "            cur_sum += new_sum\n",
    "            continue\n",
    "        elif cur_id is not None:\n",
    "            assert cur_sum is not None\n",
    "            id_ = int(cur_sum.idxmax()) - 1\n",
    "            cat = LABEL_TO_CAT[id_]\n",
    "            dense_preds.append((int(cur_id), cat))\n",
    "            \n",
    "        cur_id = product_id\n",
    "        cur_sum = new_sum\n",
    "        \n",
    "if cur_id is not None:\n",
    "    id_ = int(cur_sum.idxmax()) - 1\n",
    "    cat = LABEL_TO_CAT[id_]\n",
    "    dense_preds.append((int(cur_id), cat))\n",
    "            \n",
    "dense_preds_df = pd.DataFrame(data=dense_preds, columns=['_id','category_id'])\n",
    "print('Dataframe shape {}; products in test {}'.format(dense_preds_df.shape, TEST_SIZE))\n",
    "print('Duplicates {}; affect accuracy {}'.format(dense_preds_df.shape[0] - TEST_SIZE,\n",
    "                                                float(dense_preds_df.shape[0] - TEST_SIZE) / TEST_SIZE))\n",
    "dense_no_dupls = dense_preds_df.drop_duplicates(subset='_id', inplace=False)\n",
    "print('No duplicated shape:', dense_no_dupls.shape)\n",
    "\n",
    "dense_no_dupls.to_csv('../submit/dense_all_imgs.csv', index=False)"
   ]
  },
  {
   "cell_type": "markdown",
   "metadata": {},
   "source": [
    "# Усреднить денснет с резнетом"
   ]
  },
  {
   "cell_type": "code",
   "execution_count": 5,
   "metadata": {},
   "outputs": [
    {
     "name": "stdout",
     "output_type": "stream",
     "text": [
      "0 tables in storage\n",
      "CPU times: user 0 ns, sys: 0 ns, total: 0 ns\n",
      "Wall time: 5.55 ms\n"
     ]
    }
   ],
   "source": [
    "%%time\n",
    "res_store = pd.HDFStore('../input/predict_probs_resnet50.h5')\n",
    "res_keys = res_store.keys()\n",
    "print('{} tables in storage'.format(len(res_keys)))"
   ]
  },
  {
   "cell_type": "code",
   "execution_count": null,
   "metadata": {
    "collapsed": true
   },
   "outputs": [],
   "source": [
    "ave_preds = []\n",
    "cur_id = None\n",
    "cur_sum = None\n",
    "\n",
    "for key in tqdm(densenet_keys): \n",
    "    res_table = res_store.select(key)\n",
    "    dens_table = store.select(key)\n",
    "    # table.drop(table[table.img_num != 0.].index, axis=0, inplace=True)\n",
    "    assert res_table.shape[0] % 10 == 0\n",
    "    assert dens_table.shape[0] == res_table.shape[0]\n",
    "    for i in range(int(res_table.shape[0] / 10)):\n",
    "        product_id1 = res_table.pr_id.iloc[10*i]\n",
    "        product_id2 = dens_table.pr_id.iloc[10 * i]\n",
    "        assert product_id1 == product_id2\n",
    "        new_sum1 = res_table[10*i : 10*i + 10].drop(['pr_id', 'img_num'], axis=1, inplace=False).sum()\n",
    "        new_sum2 = dens_table[10*i : 10*i + 10].drop(['pr_id', 'img_num'], axis=1, inplace=False).sum()\n",
    "        new_sum = new_sum1 + new_sum2\n",
    "        \n",
    "        if cur_id == product_id1:\n",
    "            assert cur_sum is not None\n",
    "            cur_sum += new_sum\n",
    "            continue\n",
    "        elif cur_id is not None:\n",
    "            assert cur_sum is not None\n",
    "            id_ = int(cur_sum.idxmax()) - 1\n",
    "            cat = LABEL_TO_CAT[id_]\n",
    "            ave_preds.append((int(cur_id), cat))\n",
    "            \n",
    "        cur_id = product_id1\n",
    "        cur_sum = new_sum\n",
    "        \n",
    "if cur_id is not None:\n",
    "    id_ = int(cur_sum.idxmax()) - 1\n",
    "    cat = LABEL_TO_CAT[id_]\n",
    "    ave_preds.append((int(cur_id), cat))\n",
    "            \n",
    "ave_preds_df = pd.DataFrame(data=ave_preds, columns=['_id','category_id'])\n",
    "print('Dataframe shape {}; products in test {}'.format(ave_preds_df.shape, TEST_SIZE))\n",
    "print('Duplicates {}; affect accuracy {}'.format(ave_preds_df.shape[0] - TEST_SIZE,\n",
    "                                                float(ave_preds_df.shape[0] - TEST_SIZE) / TEST_SIZE))\n",
    "ave_no_dupls = ave_preds_df.drop_duplicates(subset='_id', inplace=False)\n",
    "print('No duplicated shape:', ave_no_dupls.shape)\n",
    "\n",
    "ave_no_dupls.to_csv('../submit/dense_resnet_ave.csv', index=False)"
   ]
  }
 ],
 "metadata": {
  "kernelspec": {
   "display_name": "Python 2",
   "language": "python",
   "name": "python2"
  },
  "language_info": {
   "codemirror_mode": {
    "name": "ipython",
    "version": 2.0
   },
   "file_extension": ".py",
   "mimetype": "text/x-python",
   "name": "python",
   "nbconvert_exporter": "python",
   "pygments_lexer": "ipython2",
   "version": "2.7.13"
  }
 },
 "nbformat": 4,
 "nbformat_minor": 0
}