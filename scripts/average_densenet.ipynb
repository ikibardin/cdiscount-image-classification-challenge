{
 "cells": [
  {
   "cell_type": "code",
   "execution_count": 1,
   "metadata": {},
   "outputs": [],
   "source": [
    "import numpy as np\n",
    "import pandas as pd\n",
    "from tqdm import tqdm\n",
    "from label_to_cat import LABEL_TO_CAT\n",
    "\n",
    "densenet_path = '../input/densenet201_test.h5'\n",
    "BATCHES_COUNT = 12091\n",
    "TEST_SIZE = 1768182"
   ]
  },
  {
   "cell_type": "code",
   "execution_count": 2,
   "metadata": {},
   "outputs": [
    {
     "name": "stdout",
     "output_type": "stream",
     "text": [
      "12091 tables in storage\n",
      "CPU times: user 40.7 s, sys: 704 ms, total: 41.4 s\n",
      "Wall time: 47.4 s\n"
     ]
    }
   ],
   "source": [
    "%%time\n",
    "store = pd.HDFStore(densenet_path)\n",
    "densenet_keys = store.keys()\n",
    "print('{} tables in storage'.format(len(densenet_keys)))"
   ]
  },
  {
   "cell_type": "markdown",
   "metadata": {},
   "source": [
    "# Усреднить только денснет"
   ]
  },
  {
   "cell_type": "code",
   "execution_count": null,
   "metadata": {
    "collapsed": true
   },
   "outputs": [],
   "source": [
    "assert len(keys) == BATCHES_COUNT\n",
    "\n",
    "dense_preds = []\n",
    "cur_id = None\n",
    "cur_sum = None\n",
    "\n",
    "for key in tqdm(densenet_keys): \n",
    "    table = store.select(key)\n",
    "    # table.drop(table[table.img_num != 0.].index, axis=0, inplace=True)\n",
    "    assert table.shape[0] % 10 == 0\n",
    "    for i in range(int(table.shape[0] / 10)):\n",
    "        product_id = table.pr_id.iloc[10*i]\n",
    "        new_sum = table[10*i : 10*i + 10].drop(['pr_id', 'img_num'], axis=1, inplace=False).sum()\n",
    "        \n",
    "        if cur_id == product_id:\n",
    "            assert cur_sum is not None\n",
    "            cur_sum += new_sum\n",
    "            continue\n",
    "        elif cur_id is not None:\n",
    "            assert cur_sum is not None\n",
    "            id_ = int(cur_sum.idxmax()) - 1\n",
    "            cat = LABEL_TO_CAT[id_]\n",
    "            dense_preds.append((int(cur_id), cat))\n",
    "            \n",
    "        cur_id = product_id\n",
    "        cur_sum = new_sum\n",
    "        \n",
    "if cur_id is not None:\n",
    "    id_ = int(cur_sum.idxmax()) - 1\n",
    "    cat = LABEL_TO_CAT[id_]\n",
    "    dense_preds.append((int(cur_id), cat))\n",
    "            \n",
    "dense_preds_df = pd.DataFrame(data=dense_preds, columns=['_id','category_id'])\n",
    "print('Dataframe shape {}; products in test {}'.format(dense_preds_df.shape, TEST_SIZE))\n",
    "print('Duplicates {}; affect accuracy {}'.format(dense_preds_df.shape[0] - TEST_SIZE,\n",
    "                                                float(dense_preds_df.shape[0] - TEST_SIZE) / TEST_SIZE))\n",
    "dense_no_dupls = dense_preds_df.drop_duplicates(subset='_id', inplace=False)\n",
    "print('No duplicated shape:', dense_no_dupls.shape)\n",
    "\n",
    "dense_no_dupls.to_csv('../submit/dense_all_imgs.csv', index=False)"
   ]
  },
  {
   "cell_type": "markdown",
   "metadata": {},
   "source": [
    "# Усреднить денснет с резнетом"
   ]
  },
  {
   "cell_type": "code",
   "execution_count": 3,
   "metadata": {},
   "outputs": [
    {
     "name": "stdout",
     "output_type": "stream",
     "text": [
      "12091 tables in storage\n",
      "CPU times: user 41 s, sys: 264 ms, total: 41.3 s\n",
      "Wall time: 41.4 s\n"
     ]
    }
   ],
   "source": [
    "%%time\n",
    "res_store = pd.HDFStore('../input/predict_probs_resnet50.h5')\n",
    "res_keys = res_store.keys()\n",
    "print('{} tables in storage'.format(len(res_keys)))"
   ]
  },
  {
   "cell_type": "code",
   "execution_count": null,
   "metadata": {},
   "outputs": [
    {
     "name": "stderr",
     "output_type": "stream",
     "text": [
      " 37%|███▋      | 4498/12091 [2:50:45<4:48:14,  2.28s/it]"
     ]
    }
   ],
   "source": [
    "\n",
    "ave_preds = []\n",
    "cur_id = None\n",
    "cur_sum = None\n",
    "\n",
    "for key in tqdm(densenet_keys): \n",
    "    res_table = res_store.select(key)\n",
    "    dens_table = store.select(key)\n",
    "    # table.drop(table[table.img_num != 0.].index, axis=0, inplace=True)\n",
    "    assert res_table.shape[0] % 10 == 0\n",
    "    assert dens_table.shape[0] == res_table.shape[0]\n",
    "    for i in range(int(res_table.shape[0] / 10)):\n",
    "        st = 10 * i\n",
    "        product_id1 = res_table.pr_id.iloc[st]\n",
    "        product_id2 = dens_table.pr_id.iloc[st]\n",
    "        assert product_id1 == product_id2\n",
    "        res_sum1 = res_table.iloc[pd.np.r_[st : st + 4, st + 5:st + 9]].drop(['pr_id', 'img_num'], axis=1, inplace=False).sum()\n",
    "        res_sum2 = res_table.iloc[pd.np.r_[st + 4: st + 5, st + 9:st + 10]].drop(['pr_id', 'img_num'], axis=1, inplace=False).sum()\n",
    "        dens_sum1 = dens_table.iloc[pd.np.r_[st : st + 4, st + 5:st + 9]].drop(['pr_id', 'img_num'], axis=1, inplace=False).sum()\n",
    "        dens_sum2 =dens_table.iloc[pd.np.r_[st + 4: st + 5, st + 9:st + 10]].drop(['pr_id', 'img_num'], axis=1, inplace=False).sum()\n",
    "        \n",
    "        # new_sum1 = res_table[10*i : 10*i + 10].drop(['pr_id', 'img_num'], axis=1, inplace=False).sum()\n",
    "        # new_sum2 = dens_table[10*i : 10*i + 10].drop(['pr_id', 'img_num'], axis=1, inplace=False).sum()\n",
    "        new_sum = res_sum1 + 3*res_sum2 + dens_sum1 + 3*dens_sum2\n",
    "        \n",
    "        if cur_id == product_id1:\n",
    "            assert cur_sum is not None\n",
    "            cur_sum += new_sum\n",
    "            continue\n",
    "        elif cur_id is not None:\n",
    "            assert cur_sum is not None\n",
    "            id_ = int(cur_sum.idxmax()) - 1\n",
    "            cat = LABEL_TO_CAT[id_]\n",
    "            ave_preds.append((int(cur_id), cat))\n",
    "            \n",
    "        cur_id = product_id1\n",
    "        cur_sum = new_sum\n",
    "        \n",
    "if cur_id is not None:\n",
    "    id_ = int(cur_sum.idxmax()) - 1\n",
    "    cat = LABEL_TO_CAT[id_]\n",
    "    ave_preds.append((int(cur_id), cat))\n",
    "            \n",
    "ave_preds_df = pd.DataFrame(data=ave_preds, columns=['_id','category_id'])\n",
    "print('Dataframe shape {}; products in test {}'.format(ave_preds_df.shape, TEST_SIZE))\n",
    "print('Duplicates {}; affect accuracy {}'.format(ave_preds_df.shape[0] - TEST_SIZE,\n",
    "                                                float(ave_preds_df.shape[0] - TEST_SIZE) / TEST_SIZE))\n",
    "ave_no_dupls = ave_preds_df.drop_duplicates(subset='_id', inplace=False)\n",
    "print('No duplicated shape:', ave_no_dupls.shape)\n",
    "\n",
    "ave_no_dupls.to_csv('../submit/dense_resnet_ave_center_x3.csv', index=False)"
   ]
  },
  {
   "cell_type": "code",
   "execution_count": null,
   "metadata": {},
   "outputs": [],
   "source": []
  }
 ],
 "metadata": {
  "kernelspec": {
   "display_name": "Python [conda env:python3.5]",
   "language": "python",
   "name": "conda-env-python3.5-py"
  },
  "language_info": {
   "codemirror_mode": {
    "name": "ipython",
    "version": 3
   },
   "file_extension": ".py",
   "mimetype": "text/x-python",
   "name": "python",
   "nbconvert_exporter": "python",
   "pygments_lexer": "ipython3",
   "version": "3.5.4"
  }
 },
 "nbformat": 4,
 "nbformat_minor": 2
}
