{
 "cells": [
  {
   "cell_type": "code",
   "execution_count": 1,
   "metadata": {},
   "outputs": [],
   "source": [
    "import numpy as np\n",
    "import pandas as pd\n",
    "from tqdm import tqdm\n",
    "from label_to_cat import LABEL_TO_CAT\n",
    "\n",
    "datapath = 'predict_probs_resnet50_short.h5'\n",
    "BATCHES_COUNT = 12091"
   ]
  },
  {
   "cell_type": "code",
   "execution_count": 2,
   "metadata": {},
   "outputs": [
    {
     "name": "stdout",
     "output_type": "stream",
     "text": [
      "1 tables in storage\n"
     ]
    }
   ],
   "source": [
    "store = pd.HDFStore(datapath)\n",
    "print('{} tables in storage'.format(len(store.keys())))"
   ]
  },
  {
   "cell_type": "code",
   "execution_count": 15,
   "metadata": {},
   "outputs": [
    {
     "name": "stderr",
     "output_type": "stream",
     "text": [
      "100%|██████████| 1/1 [00:00<00:00,  2.01it/s]\n"
     ]
    }
   ],
   "source": [
    "# assert len(store.keys()) == BATCHES_COUNT\n",
    "\n",
    "preds = []\n",
    "for key in tqdm(store.keys()): \n",
    "    table = store.select(key)\n",
    "    table.drop(table[table.img_num != 0.].index, axis=0, inplace=True)\n",
    "    assert table.shape[0] % 10 == 0\n",
    "    for i in range(table.shape[0] / 10):\n",
    "        product_id = table.pr_id.iloc[10*i]\n",
    "        id_ = int(table[10*i : 10*i + 10].drop(['pr_id', 'img_num'], axis=1, inplace=False).sum().idxmax()) + 1\n",
    "        cat = LABEL_TO_CAT[id_]\n",
    "        preds.append((int(product_id), cat))\n",
    "\n",
    "preds_df = pd.DataFrame(data=preds, columns=['_id','category_id'])\n",
    "preds_df.to_csv('preds_resnet50.csv', index=False)"
   ]
  },
  {
   "cell_type": "code",
   "execution_count": null,
   "metadata": {
    "collapsed": true
   },
   "outputs": [],
   "source": []
  }
 ],
 "metadata": {
  "kernelspec": {
   "display_name": "Python 2",
   "language": "python",
   "name": "python2"
  },
  "language_info": {
   "codemirror_mode": {
    "name": "ipython",
    "version": 2
   },
   "file_extension": ".py",
   "mimetype": "text/x-python",
   "name": "python",
   "nbconvert_exporter": "python",
   "pygments_lexer": "ipython2",
   "version": "2.7.13"
  }
 },
 "nbformat": 4,
 "nbformat_minor": 2
}
