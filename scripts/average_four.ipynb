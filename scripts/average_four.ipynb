{
 "cells": [
  {
   "cell_type": "code",
   "execution_count": 1,
   "metadata": {
    "collapsed": true
   },
   "outputs": [],
   "source": [
    "import numpy as np\n",
    "import pandas as pd\n",
    "from tqdm import tqdm\n",
    "from label_to_cat import LABEL_TO_CAT\n",
    "\n",
    "BATCHES_COUNT = 12091\n",
    "TEST_SIZE = 1768182\n",
    "\n",
    "PATHS = [\n",
    "    '../input/densenet_test.h5',\n",
    "    '../input/predict_probs_resnet50.h5',\n",
    "    '../input/inception3_test.h5',\n",
    "    '../se_inc_test.h5'\n",
    "]"
   ]
  },
  {
   "cell_type": "code",
   "execution_count": null,
   "metadata": {},
   "outputs": [],
   "source": [
    "%%time\n",
    "stores = []\n",
    "for path in PATHS:\n",
    "    store = pd.HDFStore(path)\n",
    "    print('{} -- {} tables'.format(path, len(store)))\n",
    "    assert len(store) == BATCHES_COUNT\n",
    "    stores.append(store)\n",
    "keys = stores[0].keys()\n",
    "print('Keys size = ', len(keys))"
   ]
  },
  {
   "cell_type": "code",
   "execution_count": null,
   "metadata": {
    "collapsed": true
   },
   "outputs": [],
   "source": [
    "ave_preds = []\n",
    "cur_id = None\n",
    "cur_sum = None\n",
    "\n",
    "def select_tables(stores, key):\n",
    "    tables = []\n",
    "    shape = None\n",
    "    for store in stores:\n",
    "        table = store.select(key)\n",
    "        if shape is None:\n",
    "            shape = table.shape\n",
    "        else:\n",
    "            assert table.shape == shape\n",
    "        tables.append(table)\n",
    "    assert len(tables) == len(stores)\n",
    "    return tables\n",
    "\n",
    "def get_product_id(tables, start):\n",
    "    res = None\n",
    "    for table in tables:\n",
    "        product_id = table.pr_id.iloc[start]\n",
    "        if res is None:\n",
    "            res = product_id\n",
    "        else:\n",
    "            assert res == product_id\n",
    "    assert res is not None\n",
    "    return res\n",
    "\n",
    "def get_sums_10crops(tables, start):\n",
    "    return [table[start : start + 10].drop(['pr_id', 'img_num'], axis=1, inplace=False).sum()\n",
    "               for table in tables]\n",
    "\n",
    "def get_sums_1sum(tables, start):\n",
    "    return [table[i : i + 1].drop(['pr_id', 'img_num'], axis=1, inplace=False).sum()\n",
    "                for table in tables]\n",
    "        \n",
    "\n",
    "for key in tqdm(keys): \n",
    "    tables = select_tables(stores, key)\n",
    "    for i in range(int(res_table.shape[0] / 10)):\n",
    "        st = 10 * i\n",
    "        product_id = get_product_id(tables, st)\n",
    "        \n",
    "        sums_10crops = get_sums_10crops(tables[:2], st)\n",
    "        sums_1sum = get_sums_1sum(tables[2:], st)\n",
    "        \n",
    "        new_sum = sum(sums_10crops + sums_1sum)\n",
    "        \n",
    "        if cur_id == product_id:\n",
    "            assert cur_sum is not None\n",
    "            cur_sum += new_sum\n",
    "            continue\n",
    "        elif cur_id is not None:\n",
    "            assert cur_sum is not None\n",
    "            cat = LABEL_TO_CAT[int(cur_sum.idxmax()) - 1]\n",
    "            ave_preds.append((int(cur_id), cat))\n",
    "            \n",
    "        cur_id = product_id\n",
    "        cur_sum = new_sum\n",
    "        \n",
    "if cur_id is not None:\n",
    "    cat = LABEL_TO_CAT[int(cur_sum.idxmax()) - 1]\n",
    "    ave_preds.append((int(cur_id), cat))\n",
    "            \n",
    "ave_preds_df = pd.DataFrame(data=ave_preds, columns=['_id','category_id'])\n",
    "print('Dataframe shape {}; products in test {}'.format(ave_preds_df.shape, TEST_SIZE))\n",
    "print('Duplicates {}; affect accuracy {}'.format(ave_preds_df.shape[0] - TEST_SIZE,\n",
    "                                                float(ave_preds_df.shape[0] - TEST_SIZE) / TEST_SIZE))\n",
    "ave_no_dupls = ave_preds_df.drop_duplicates(subset='_id', inplace=False)\n",
    "print('No duplicated shape:', ave_no_dupls.shape)\n",
    "\n",
    "ave_no_dupls.to_csv('../submit/four_nets_ave.csv', index=False)"
   ]
  }
 ],
 "metadata": {
  "kernelspec": {
   "display_name": "Python 2",
   "language": "python",
   "name": "python2"
  },
  "language_info": {
   "codemirror_mode": {
    "name": "ipython",
    "version": 2
   },
   "file_extension": ".py",
   "mimetype": "text/x-python",
   "name": "python",
   "nbconvert_exporter": "python",
   "pygments_lexer": "ipython2",
   "version": "2.7.13"
  }
 },
 "nbformat": 4,
 "nbformat_minor": 2
}
