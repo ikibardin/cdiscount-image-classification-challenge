{
 "cells": [
  {
   "cell_type": "code",
   "execution_count": 5,
   "metadata": {
    "collapsed": true
   },
   "outputs": [],
   "source": [
    "import numpy as np\n",
    "import pandas as pd\n",
    "from tqdm import tqdm\n",
    "from label_to_cat import LABEL_TO_CAT\n",
    "from probs_saver import ProbStore\n",
    "\n",
    "datapath = '?'\n",
    "save_to = '../input/resnet_val_comp.h5'"
   ]
  },
  {
   "cell_type": "code",
   "execution_count": 6,
   "metadata": {},
   "outputs": [
    {
     "name": "stdout",
     "output_type": "stream",
     "text": [
      "0 tables in storage\n",
      "CPU times: user 4 ms, sys: 0 ns, total: 4 ms\n",
      "Wall time: 1.79 ms\n"
     ]
    }
   ],
   "source": [
    "%%time\n",
    "store = pd.HDFStore(datapath)\n",
    "keys = store.keys()\n",
    "print('{} tables in storage'.format(len(keys)))"
   ]
  },
  {
   "cell_type": "code",
   "execution_count": null,
   "metadata": {
    "collapsed": true
   },
   "outputs": [],
   "source": [
    "cols = []\n",
    "for i in range(1, 5271):\n",
    "    cols.append(i)\n",
    "    \n",
    "saver = ProbStore(path=save_to)\n",
    "\n",
    "for key in tqdm(keys): \n",
    "    table = store.select(key)\n",
    "    assert table.shape[0] % 10 == 0\n",
    "    two_cols = []\n",
    "    sums_df = pd.DataFrame(columns=cols, dtype=np.float16)\n",
    "    for i in range(int(table.shape[0] / 10)):\n",
    "        st = 10 * i\n",
    "        product_id = table.pr_id.iloc[st]\n",
    "        img_num = table.img_num.iloc[st]\n",
    "        sum1 = table.iloc[pd.np.r_[st : st + 4, st + 5:st + 9]].drop(['pr_id', 'img_num'], axis=1, inplace=False).sum()\n",
    "        sum2 = table.iloc[pd.np.r_[st + 4: st + 5, st + 9:st + 10]].drop(['pr_id', 'img_num'], axis=1, inplace=False).sum()\n",
    "        sum_ = sum1 + sum2*3\n",
    "        \n",
    "        two_cols.append((product_id, img_num))\n",
    "        sums_df.append(sum_, ignore_index=True)  \n",
    "    two_cols_df = pd.DataFrame(data=two_cols, columns=['pr_id', 'img_num'], dtype=np.int32)\n",
    "    df = pd.concat([two_cols_df, sums_df], axis=1, ignore_index=True)\n",
    "    saver.saveProbs(df)\n",
    "    # debug\n",
    "    print(df)\n",
    "    break\n"
   ]
  },
  {
   "cell_type": "markdown",
   "metadata": {},
   "source": [
    "# debug"
   ]
  },
  {
   "cell_type": "code",
   "execution_count": null,
   "metadata": {
    "collapsed": true
   },
   "outputs": [],
   "source": [
    "%%time\n",
    "comp_store = pd.HDFStore(save_to)\n",
    "comp_keys = comp_store.keys()\n",
    "print('{} tables in compressed val'.format(len(comp_keys)))"
   ]
  },
  {
   "cell_type": "code",
   "execution_count": null,
   "metadata": {
    "collapsed": true
   },
   "outputs": [],
   "source": [
    "comp_store.select('d0')"
   ]
  }
 ],
 "metadata": {
  "kernelspec": {
   "display_name": "Python 2",
   "language": "python",
   "name": "python2"
  },
  "language_info": {
   "codemirror_mode": {
    "name": "ipython",
    "version": 2
   },
   "file_extension": ".py",
   "mimetype": "text/x-python",
   "name": "python",
   "nbconvert_exporter": "python",
   "pygments_lexer": "ipython2",
   "version": "2.7.13"
  }
 },
 "nbformat": 4,
 "nbformat_minor": 2
}
