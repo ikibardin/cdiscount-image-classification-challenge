{
 "cells": [
  {
   "cell_type": "code",
   "execution_count": 1,
   "metadata": {},
   "outputs": [],
   "source": [
    "import numpy as np\n",
    "import pandas as pd\n",
    "from tqdm import tqdm\n",
    "from label_to_cat import LABEL_TO_CAT\n",
    "\n",
    "BATCHES_COUNT = 12091\n",
    "TEST_SIZE = 1768182\n",
    "\n",
    "PATHS = [\n",
    "    '../input/densenet201_test.h5',\n",
    "    '../input/predict_probs_resnet50.h5',\n",
    "    '../input/inc3_test_xDDD.h5',\n",
    "    '../input/se_inc_test.h5'\n",
    "]"
   ]
  },
  {
   "cell_type": "code",
   "execution_count": 2,
   "metadata": {},
   "outputs": [
    {
     "name": "stdout",
     "output_type": "stream",
     "text": [
      "../input/densenet201_test.h5 -- 12091 tables\n",
      "../input/predict_probs_resnet50.h5 -- 12091 tables\n",
      "../input/inc3_test_xDDD.h5 -- 12091 tables\n",
      "../input/se_inc_test.h5 -- 12091 tables\n",
      "Keys size =  12091\n",
      "CPU times: user 6min 43s, sys: 3.64 s, total: 6min 46s\n",
      "Wall time: 6min 47s\n"
     ]
    }
   ],
   "source": [
    "%%time\n",
    "stores = []\n",
    "for path in PATHS:\n",
    "    store = pd.HDFStore(path)\n",
    "    print('{} -- {} tables'.format(path, len(store)))\n",
    "    assert len(store) == BATCHES_COUNT\n",
    "    stores.append(store)\n",
    "keys = stores[0].keys()\n",
    "print('Keys size = ', len(keys))"
   ]
  },
  {
   "cell_type": "code",
   "execution_count": 3,
   "metadata": {},
   "outputs": [
    {
     "name": "stderr",
     "output_type": "stream",
     "text": [
      "100%|██████████| 12091/12091 [8:47:45<00:00,  2.62s/it]  \n"
     ]
    },
    {
     "name": "stdout",
     "output_type": "stream",
     "text": [
      "Dataframe shape (1769197, 2); products in test 1768182\n",
      "Duplicates 1015; affect accuracy 0.0005740359306903928\n",
      "No duplicated shape: (1768182, 2)\n"
     ]
    }
   ],
   "source": [
    "ave_preds = []\n",
    "cur_id = None\n",
    "cur_sum = None\n",
    "\n",
    "def select_tables(stores, key):\n",
    "    tables = []\n",
    "    for store in stores:\n",
    "        table = store.select(key)\n",
    "        tables.append(table)\n",
    "    assert len(tables) == len(stores)\n",
    "    return tables\n",
    "\n",
    "def get_product_id(tables, start):\n",
    "    res = None\n",
    "    for table in tables:\n",
    "        product_id = table.pr_id.iloc[start]\n",
    "        if res is None:\n",
    "            res = product_id\n",
    "        else:\n",
    "            assert res == product_id\n",
    "    assert res is not None\n",
    "    return res\n",
    "\n",
    "def get_sums_10crops(tables, start):\n",
    "    return [table[start : start + 10].drop(['pr_id', 'img_num'], axis=1, inplace=False).sum()\n",
    "               for table in tables]\n",
    "\n",
    "def get_sums_1sum(tables, start):\n",
    "    return [table[start : start + 1].drop(['pr_id', 'img_num'], axis=1, inplace=False).sum()\n",
    "                for table in tables]\n",
    "        \n",
    "\n",
    "for key in tqdm(keys): \n",
    "    tables = select_tables(stores, key)\n",
    "    for i in range(int(tables[0].shape[0] / 10)):\n",
    "        #st = 10 * i\n",
    "        pr_id1 = get_product_id(tables[:2], 10*i)\n",
    "        pr_id2 = get_product_id(tables[2:], i)\n",
    "        assert pr_id1 == pr_id2\n",
    "        product_id = pr_id1\n",
    "        \n",
    "        sums_10crops = get_sums_10crops(tables[:2], 10*i)\n",
    "        sums_1sum = get_sums_1sum(tables[2:], i)\n",
    "        \n",
    "        new_sum = sum(sums_10crops + sums_1sum)\n",
    "        \n",
    "        if cur_id == product_id:\n",
    "            assert cur_sum is not None\n",
    "            cur_sum += new_sum\n",
    "            continue\n",
    "        elif cur_id is not None:\n",
    "            assert cur_sum is not None\n",
    "            cat = LABEL_TO_CAT[int(cur_sum.idxmax()) - 1]\n",
    "            ave_preds.append((int(cur_id), cat))\n",
    "            \n",
    "        cur_id = product_id\n",
    "        cur_sum = new_sum\n",
    "        \n",
    "if cur_id is not None:\n",
    "    cat = LABEL_TO_CAT[int(cur_sum.idxmax()) - 1]\n",
    "    ave_preds.append((int(cur_id), cat))\n",
    "            \n",
    "ave_preds_df = pd.DataFrame(data=ave_preds, columns=['_id','category_id'])\n",
    "print('Dataframe shape {}; products in test {}'.format(ave_preds_df.shape, TEST_SIZE))\n",
    "print('Duplicates {}; affect accuracy {}'.format(ave_preds_df.shape[0] - TEST_SIZE,\n",
    "                                                float(ave_preds_df.shape[0] - TEST_SIZE) / TEST_SIZE))\n",
    "ave_no_dupls = ave_preds_df.drop_duplicates(subset='_id', inplace=False)\n",
    "print('No duplicated shape:', ave_no_dupls.shape)\n",
    "\n",
    "ave_no_dupls.to_csv('../submit/four_alter_x1.csv', index=False)"
   ]
  }
 ],
 "metadata": {
  "kernelspec": {
   "display_name": "Python [conda env:python3.5]",
   "language": "python",
   "name": "conda-env-python3.5-py"
  },
  "language_info": {
   "codemirror_mode": {
    "name": "ipython",
    "version": 3
   },
   "file_extension": ".py",
   "mimetype": "text/x-python",
   "name": "python",
   "nbconvert_exporter": "python",
   "pygments_lexer": "ipython3",
   "version": "3.5.4"
  }
 },
 "nbformat": 4,
 "nbformat_minor": 2
}
