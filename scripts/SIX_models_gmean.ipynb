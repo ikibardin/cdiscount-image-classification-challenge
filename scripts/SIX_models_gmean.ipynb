{
 "cells": [
  {
   "cell_type": "code",
   "execution_count": 11,
   "metadata": {},
   "outputs": [],
   "source": [
    "import numpy as np\n",
    "import pandas as pd\n",
    "from scipy.stats import gmean\n",
    "from tqdm import tqdm\n",
    "\n",
    "from label_to_cat import LABEL_TO_CAT\n",
    "\n",
    "BATCHES_COUNT = 12091\n",
    "TEST_SIZE = 1768182"
   ]
  },
  {
   "cell_type": "code",
   "execution_count": 12,
   "metadata": {},
   "outputs": [],
   "source": [
    "res50_path = '../input/resnet50_test_corr.h5'\n",
    "res101_path = '../input/resnet101_test.h5'\n",
    "dense_path = '../input/dense_test_corr.h5'\n",
    "d1_path = '../input/dense_test_epoch19.h5'\n",
    "se_inc_path = '../input/se_inc_test_TTA.h5'\n",
    "inc_path = '../input/inc3_test_TTA.h5'"
   ]
  },
  {
   "cell_type": "code",
   "execution_count": 3,
   "metadata": {},
   "outputs": [
    {
     "name": "stdout",
     "output_type": "stream",
     "text": [
      "12091 tables in storage\n",
      "CPU times: user 41.4 s, sys: 308 ms, total: 41.7 s\n",
      "Wall time: 41.7 s\n"
     ]
    }
   ],
   "source": [
    "%%time\n",
    "store_res50 = pd.HDFStore(res50_path)\n",
    "print('{} tables in storage'.format(len(store_res50)))"
   ]
  },
  {
   "cell_type": "code",
   "execution_count": 4,
   "metadata": {},
   "outputs": [
    {
     "name": "stdout",
     "output_type": "stream",
     "text": [
      "12091 tables in storage\n",
      "CPU times: user 42.7 s, sys: 308 ms, total: 43 s\n",
      "Wall time: 43 s\n"
     ]
    }
   ],
   "source": [
    "%%time\n",
    "store_res101 = pd.HDFStore(res101_path)\n",
    "print('{} tables in storage'.format(len(store_res101)))"
   ]
  },
  {
   "cell_type": "code",
   "execution_count": 5,
   "metadata": {},
   "outputs": [
    {
     "name": "stdout",
     "output_type": "stream",
     "text": [
      "12091 tables in storage\n",
      "CPU times: user 42.3 s, sys: 252 ms, total: 42.5 s\n",
      "Wall time: 42.5 s\n"
     ]
    }
   ],
   "source": [
    "%%time\n",
    "store_dense = pd.HDFStore(dense_path)\n",
    "print('{} tables in storage'.format(len(store_res101)))"
   ]
  },
  {
   "cell_type": "code",
   "execution_count": 6,
   "metadata": {},
   "outputs": [
    {
     "name": "stdout",
     "output_type": "stream",
     "text": [
      "12091 tables in storage\n",
      "CPU times: user 41.9 s, sys: 224 ms, total: 42.1 s\n",
      "Wall time: 42.1 s\n"
     ]
    }
   ],
   "source": [
    "%%time\n",
    "store_d1 = pd.HDFStore(d1_path)\n",
    "print('{} tables in storage'.format(len(store_d1)))"
   ]
  },
  {
   "cell_type": "code",
   "execution_count": 7,
   "metadata": {},
   "outputs": [
    {
     "name": "stdout",
     "output_type": "stream",
     "text": [
      "12091 tables in storage\n",
      "CPU times: user 42.6 s, sys: 384 ms, total: 43 s\n",
      "Wall time: 43 s\n"
     ]
    }
   ],
   "source": [
    "%%time\n",
    "store_se_inc = pd.HDFStore(se_inc_path)\n",
    "print('{} tables in storage'.format(len(store_se_inc)))"
   ]
  },
  {
   "cell_type": "code",
   "execution_count": 8,
   "metadata": {},
   "outputs": [
    {
     "name": "stdout",
     "output_type": "stream",
     "text": [
      "24181 tables in storage\n",
      "CPU times: user 1min 27s, sys: 780 ms, total: 1min 27s\n",
      "Wall time: 1min 27s\n"
     ]
    }
   ],
   "source": [
    "%%time\n",
    "store_inc = pd.HDFStore(inc_path)\n",
    "print('{} tables in storage'.format(len(store_inc)))"
   ]
  },
  {
   "cell_type": "code",
   "execution_count": 9,
   "metadata": {},
   "outputs": [
    {
     "name": "stdout",
     "output_type": "stream",
     "text": [
      "Count: 12091\n"
     ]
    }
   ],
   "source": [
    "stores = [store_res50, store_res101, store_dense, store_d1, store_se_inc, store_inc]\n",
    "# keys = store_res50.keys()\n",
    "count = len(stores[0])\n",
    "print(\"Count:\", count)"
   ]
  },
  {
   "cell_type": "code",
   "execution_count": 7,
   "metadata": {},
   "outputs": [],
   "source": [
    "# stores = [store_res101]"
   ]
  },
  {
   "cell_type": "code",
   "execution_count": 10,
   "metadata": {},
   "outputs": [
    {
     "name": "stderr",
     "output_type": "stream",
     "text": [
      "  0%|          | 0/12091 [00:00<?, ?it/s]/home/ikibardin/anaconda3/envs/python3.5/lib/python3.5/site-packages/scipy/stats/stats.py:306: RuntimeWarning: divide by zero encountered in log\n",
      "  log_a = np.log(np.array(a, dtype=dtype))\n",
      "100%|██████████| 12091/12091 [11:00:37<00:00,  3.28s/it]  \n"
     ]
    },
    {
     "name": "stdout",
     "output_type": "stream",
     "text": [
      "Dataframe shape (1768182, 2); products in test 1768182\n",
      "Duplicates 0; affect accuracy 0.0\n",
      "No duplicated shape: (1768182, 2); expected rows count 1768182\n"
     ]
    }
   ],
   "source": [
    "preds = []\n",
    "cur_id = None\n",
    "one_product_preds = None\n",
    "\n",
    "def select_tables_SIX(stores, index):\n",
    "    tables = []\n",
    "    key = 'd' + str(index)\n",
    "    for i in range(len(stores) - 1):\n",
    "        tables.append(stores[i].select(key))\n",
    "    k1 = 'd' + str(2*index)\n",
    "    k2 = 'd' + str(2*index + 1)\n",
    "    if index != 12090:\n",
    "        tables.append(\n",
    "            pd.concat([stores[len(stores) - 1].select(k1), stores[len(stores) - 1].select(k2)],\n",
    "                     ignore_index=True)\n",
    "        )\n",
    "    else:\n",
    "        tables.append(stores[len(stores) - 1].select(k1))\n",
    "    return tables\n",
    "        \n",
    "def get_product_id(tables, index):\n",
    "    assert len(tables) > 0\n",
    "    product_id = tables[0].pr_id.iloc[index]\n",
    "    for i in range(1, len(tables)):\n",
    "        alt = tables[i].pr_id.iloc[index]\n",
    "        assert alt == product_id\n",
    "    return product_id\n",
    "\n",
    "def get_new_sum_gmean(tables, ind):\n",
    "    sums = [table[ind : ind +1].drop(['pr_id', 'img_num'], axis=1, inplace=False).sum()\n",
    "                           for table in tables]\n",
    "    return gmean(sums)\n",
    "\n",
    "def get_cat_id(one_pr_preds):\n",
    "    #averaged = one_pr_preds[0]\n",
    "    #for i in range(1, len(one_pr_preds)):\n",
    "    #    averaged += one_product_preds[i] * (1. - 0.3*i)\n",
    "    #id_ = int(averaged.argmax()) - 1\n",
    "    #assert 0 <= id_ < 5270\n",
    "    #return id_\n",
    "    return gmean(one_pr_preds).argmax()\n",
    "\n",
    "for index in tqdm(range(count)): \n",
    "    tables = select_tables_SIX(stores, index)\n",
    "    for i in range(tables[0].shape[0]):\n",
    "        product_id = get_product_id(tables, i)\n",
    "        new_sum = get_new_sum_gmean(tables, i)\n",
    "        if cur_id == product_id:\n",
    "            assert one_product_preds is not None\n",
    "            one_product_preds.append(new_sum)\n",
    "            continue\n",
    "        elif cur_id is not None:\n",
    "            assert one_product_preds is not None\n",
    "            cat = LABEL_TO_CAT[get_cat_id(one_product_preds)]\n",
    "            preds.append((int(cur_id), cat))\n",
    "            one_product_preds = None\n",
    "        \n",
    "        cur_id = product_id\n",
    "        one_product_preds = [new_sum]\n",
    "        \n",
    "if cur_id is not None:\n",
    "    cat = LABEL_TO_CAT[get_cat_id(one_product_preds)]\n",
    "    preds.append((int(cur_id), cat))\n",
    "            \n",
    "preds_df = pd.DataFrame(data=preds, columns=['_id','category_id'])\n",
    "print('Dataframe shape {}; products in test {}'.format(preds_df.shape, TEST_SIZE))\n",
    "print('Duplicates {}; affect accuracy {}'.format(preds_df.shape[0] - TEST_SIZE,\n",
    "                                                float(preds_df.shape[0] - TEST_SIZE) / TEST_SIZE))\n",
    "no_dupls = preds_df.drop_duplicates(subset='_id', inplace=False)\n",
    "print('No duplicated shape: {}; expected rows count {}'.format(no_dupls.shape, TEST_SIZE))\n",
    "\n",
    "no_dupls.to_csv('../submit/SIX_MODEL_GMEAN.csv', index=False)"
   ]
  }
 ],
 "metadata": {
  "kernelspec": {
   "display_name": "Python [conda env:python3.5]",
   "language": "python",
   "name": "conda-env-python3.5-py"
  },
  "language_info": {
   "codemirror_mode": {
    "name": "ipython",
    "version": 3
   },
   "file_extension": ".py",
   "mimetype": "text/x-python",
   "name": "python",
   "nbconvert_exporter": "python",
   "pygments_lexer": "ipython3",
   "version": "3.5.4"
  }
 },
 "nbformat": 4,
 "nbformat_minor": 2
}
