{
 "cells": [
  {
   "cell_type": "code",
   "execution_count": 1,
   "metadata": {},
   "outputs": [],
   "source": [
    "import numpy as np\n",
    "import pandas as pd\n",
    "from tqdm import tqdm\n",
    "from label_to_cat import LABEL_TO_CAT\n",
    "from probs_saver import ProbStore\n",
    "\n",
    "datapath = '../input/predict_probs_resnet50.h5'\n",
    "save_to = '../input/resnet_test_comp.h5'"
   ]
  },
  {
   "cell_type": "code",
   "execution_count": 2,
   "metadata": {},
   "outputs": [
    {
     "name": "stdout",
     "output_type": "stream",
     "text": [
      "12091 tables in storage\n",
      "CPU times: user 47.4 s, sys: 1.25 s, total: 48.6 s\n",
      "Wall time: 1min\n"
     ]
    }
   ],
   "source": [
    "%%time\n",
    "store = pd.HDFStore(datapath)\n",
    "keys = store.keys()\n",
    "print('{} tables in storage'.format(len(keys)))"
   ]
  },
  {
   "cell_type": "code",
   "execution_count": 3,
   "metadata": {},
   "outputs": [
    {
     "name": "stderr",
     "output_type": "stream",
     "text": [
      "100%|██████████| 12091/12091 [7:02:11<00:00,  2.10s/it]  \n"
     ]
    }
   ],
   "source": [
    "cols = []\n",
    "for i in range(1, 5271):\n",
    "    cols.append(str(i))\n",
    "    \n",
    "saver = ProbStore(path=save_to)\n",
    "\n",
    "for key in tqdm(keys): \n",
    "    table = store.select(key)\n",
    "    assert table.shape[0] % 10 == 0\n",
    "    two_cols = []\n",
    "    means_df = pd.DataFrame(columns=cols, dtype=np.float16)\n",
    "    for i in range(int(table.shape[0] / 10)):\n",
    "        st =  10 * i\n",
    "        product_id = table.pr_id[st]\n",
    "        img_num = table.img_num[st]\n",
    "        sum1 = table.iloc[pd.np.r_[st : st + 4, st + 5:st + 9]].drop(['pr_id', 'img_num'], axis=1, inplace=False).sum()\n",
    "        sum2 = table.iloc[pd.np.r_[st + 4: st + 5, st + 9:st + 10]].drop(['pr_id', 'img_num'], axis=1, inplace=False).sum()\n",
    "        mean_ = (sum1 + 3*sum2) / 14.\n",
    "        #print(sum_)\n",
    "        \n",
    "        two_cols.append((product_id, img_num))\n",
    "        means_df = means_df.append(mean_, ignore_index=True)\n",
    "        #print(sums_df)\n",
    "    two_cols_df = pd.DataFrame(data=two_cols, columns=['pr_id', 'img_num'], dtype=np.int32)\n",
    "    df = pd.concat([two_cols_df, means_df], axis=1)\n",
    "    #print(df)\n",
    "    saver.saveProbs(df)\n",
    "    # debug\n",
    "   # print(df)\n",
    "    #break"
   ]
  }
 ],
 "metadata": {
  "kernelspec": {
   "display_name": "Python [conda env:python3.5]",
   "language": "python",
   "name": "conda-env-python3.5-py"
  },
  "language_info": {
   "codemirror_mode": {
    "name": "ipython",
    "version": 3
   },
   "file_extension": ".py",
   "mimetype": "text/x-python",
   "name": "python",
   "nbconvert_exporter": "python",
   "pygments_lexer": "ipython3",
   "version": "3.5.4"
  }
 },
 "nbformat": 4,
 "nbformat_minor": 2
}
